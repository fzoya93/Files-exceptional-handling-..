{
  "cells": [
    {
      "cell_type": "markdown",
      "source": [],
      "metadata": {
        "id": "aaZqDtUZhkb9"
      },
      "id": "aaZqDtUZhkb9"
    },
    {
      "cell_type": "markdown",
      "source": [
        "**Assignment - Files, exceptional handling, logging and memory\n",
        "management-**\n",
        "\n",
        "**Theortical Questions-**\n",
        "\n",
        "\n",
        "\n",
        "**Ques 1) What is the difference between interpreted and compiled languages?**\n",
        "\n",
        "**Ans 1)** Compiled languages are translated entirely into machine code by a compiler before\n",
        "execution. This process produces an executable file that can be run directly by the\n",
        "computer's hardware.\n",
        "Interpreted languages are executed line by line by an interpreter at runtime, without a\n",
        "separate compilation step.\n",
        "\n",
        "**Ques 2) What is exception handling in Python?**\n",
        "\n",
        "**Ans 2)** Exception handling in Python is a way to manage errors that occur during the\n",
        "execution of a program, so the program doesn't crash unexpectedly.\n",
        "\n",
        "**Ques 3) What is the purpose of the finally block in exception handling?**\n",
        "\n",
        "Ans 3) In Python exception handling, the finally block is used to define code that must be\n",
        "executed no matter what happens—whether an exception occurs or not.\n",
        "\n",
        "**Ques 4) What is logging in Python?**\n",
        "\n",
        "Ans 4) Logging in Python means recording important events or messages from your\n",
        "program while it's running. It's mainly used for tracking errors, debugging, and\n",
        "understanding program behavior—especially in larger applications.\n",
        "\n",
        "**Ques 5) What is the significance of the __del__ method in Python?**\n",
        "\n",
        "Ans 5) The __del__ method in Python is a destructor method, which is called when an\n",
        "object is about to be destroyed (i.e., garbage collected). It allows you to define cleanup\n",
        "actions (like closing files or network connections) that should happen automatically when\n",
        "an object is no longer needed.\n",
        "\n",
        "**Ques 6) What is the difference between import and from ... import in Python?**\n",
        "\n",
        "Ans 6) In Python, both import and from ... import are used to access code from modules,\n",
        "but they work differently and are used in different situations.\n",
        "\n",
        "**Ques 7) How can you handle multiple exceptions in Python?**\n",
        "\n",
        "Ans 7) In Python, multiple exceptions can be handled using a combination of try and\n",
        "except blocks. When a block of code may raise different types of exceptions, you can write\n",
        "separate except blocks for each exception type to handle them individually. This allows for\n",
        "specific responses depending on the kind of error encountered. Alternatively, if the same\n",
        "action should be taken for multiple exceptions, you can group them into a tuple within a\n",
        "single except block.\n",
        "\n",
        "Q**ues 8) What is the purpose of the with statement when handling files in Python?**\n",
        "\n",
        "Ans 8) The with statement in Python is used to simplify file handling and ensure that\n",
        "resources like files are properly managed and closed, even if an error occurs during\n",
        "processing.\n",
        "�\n",
        "\n",
        "� **Purpose of with:**\n",
        "\n",
        "When handling files, the with statement:\n",
        "\n",
        "• Automatically opens and closes the file.\n",
        "\n",
        "• Eliminates the need to explicitly call file.close().\n",
        "\n",
        "• Helps write cleaner and safer code.\n",
        "\n",
        "\n",
        "**Ques 9 What is the difference between multithreading and multiprocessing?**\n",
        "\n",
        "Ans 9). Multithreading\n",
        "• Definition: Running multiple threads (lightweight processes) within a single\n",
        "process.\n",
        "• Use case: Best for I/O-bound tasks like file handling, web requests, or user\n",
        "interface updates.\n",
        "2. Multiprocessing\n",
        "• Definition: Running multiple separate processes, each with its own Python\n",
        "interpreter and memory space.\n",
        "• Use case: Best for CPU-bound tasks like data processing, computations, or\n",
        "machine learning.\n",
        "\n",
        "**Ques 10) What are the advantages of using logging in a program?**\n",
        "\n",
        "Ans 10) Using logging in a program provides several important advantages that help\n",
        "with debugging, monitoring, and maintaining code effectively.\n",
        "\n",
        "**Ques 11) What is memory management in Python?**\n",
        "\n",
        "Ans 11) Memory management in Python refers to the process of allocating, using, and\n",
        "releasing memory efficiently while a Python program runs. It ensures that programs\n",
        "have the memory they need to function correctly without wasting system resources.\n",
        "\n",
        "**Ques 12) What are the basic steps involved in exception handling in Python?**\n",
        "\n",
        "Ans 12) The basic steps involved in exception handling in Python are as follows:\n",
        "detect\n",
        "Write the code that might cause an exception inside the try block. This helps the\n",
        "program\n",
        "errors\n",
        "during\n",
        "execution\n",
        "without\n",
        "crashing.\n",
        "If an error occurs in the try block, control moves to the matching except block. You can\n",
        "handle specific exception types (like ValueError, ZeroDivisionError, etc.) or use a\n",
        "general except to catch all exceptions.\n",
        "\n",
        "**Ques 13) Why is memory management important in Python?**\n",
        "\n",
        "Ans 13) Memory management is important in Python because it ensures that a\n",
        "program uses system memory efficiently, prevents memory leaks, and keeps the\n",
        "application running smoothly and reliably.\n",
        "\n",
        "**Ques 14) What is the role of try and except in exception handling?**\n",
        "\n",
        "Ans 14) The try and accept blocks play a central role in exception handling in Python.\n",
        "They allow programs to catch and handle errors gracefully, without crashing.\n",
        "\n",
        "**Ques 15) How does Python's garbage collection system work?**\n",
        "\n",
        "Ans 15) Python's garbage collection system is an automatic memory management\n",
        "feature that helps free up memory by removing objects that are no longer needed (i.e.,\n",
        "objects that have no references pointing to them). This helps prevent memory leaks\n",
        "and keeps programs efficient.\n",
        "\n",
        "**Ques 16) What is the purpose of the else block in exception handling?**\n",
        "\n",
        "Ans 16) The else block in Python exception handling is used to define code that should\n",
        "run only if no exceptions occur in the try block. Its main purpose is to separate the\n",
        "normal logic from the error-handling logic, making the code cleaner and easier to\n",
        "understand.\n",
        "\n",
        "**Ques 17) What are the common logging levels in Python?**\n",
        "\n",
        "Ans 17) In Python, the logging module provides five common logging levels, each\n",
        "indicating the severity or importance of a log message. These levels help you control\n",
        "what kind of messages are recorded during program execution.\n",
        "\n",
        "**Ques 18) What is the difference between os.fork() and multiprocessing in\n",
        "Python?**\n",
        "\n",
        "Ans 18) The difference between os.fork() and the multiprocessing module in Python\n",
        "lies in usability, platform support, and level of abstraction. Both are used to create new\n",
        "processes, but they work in different ways and serve different purposes.\n",
        "\n",
        "**Ques 19) What is the importance of closing a file in Python?**\n",
        "\n",
        "Ans 19) Closing a file in Python is very important because it ensures that resources\n",
        "are released properly and data is saved correctly. When you open a file using open(),\n",
        "the operating system allocates resources (like memory and file handles) to that file. If\n",
        "you don’t close the file, these resources remain in use, which can lead to various\n",
        "issues.\n",
        "\n",
        "**Ques 20) What is the difference between file.read() and file.readline() in Python?**\n",
        "\n",
        "Ans 20) The difference between file.read() and file.readline() in Python lies in how\n",
        "much content they read from a file at a time:\n",
        "file.read()\n",
        "• Reads the entire file (or a specified number of characters) into a single string.\n",
        "• Useful when you want to read the whole content at once.\n",
        "file.readline()\n",
        "• Reads one line at a time from the file.\n",
        "• Returns a string ending with a newline character \\n (unless it’s the last line).\n",
        "\n",
        "**Ques 21) What is the logging module in Python used for?**\n",
        "\n",
        "Ans 21 The logging module in Python is used to record messages that describe events\n",
        "or errors that happen while a program is running. It is a powerful tool for debugging,\n",
        "monitoring, and tracking the behavior of applications in both development and\n",
        "production environments.\n",
        "\n",
        "**Ques 22) What is the os module in Python used for in file handling?**\n",
        "\n",
        "Ans 22) The os module in Python is used for interacting with the operating system,\n",
        "and it provides many useful functions for file and directory handling. When working\n",
        "with files, the os module helps perform tasks like creating, deleting, renaming, and\n",
        "navigating files and folders.\n",
        "\n",
        "**Ques 23) What are the challenges associated with memory management in\n",
        "Python?**\n",
        "\n",
        "Ans 23) Memory management in Python is mostly automatic, but it still comes with\n",
        "some challenges and limitations, especially in large or performance-sensitive\n",
        "applications.\n",
        "1. Global Interpreter Lock (GIL)\n",
        "Python (specifically CPython) uses a Global Interpreter Lock, which restricts execution\n",
        "to one thread at a time, even on multi-core processors. This limits true parallelism in\n",
        "memory-intensive, multi-threaded applications.\n",
        "2. Memory Leaks\n",
        "Although Python has automatic garbage collection, memory leaks can still happen —\n",
        "especially due to:\n",
        "• Unintentional references (like global variables or caches)\n",
        "• Circular references that the garbage collector doesn't clean up efficiently\n",
        "• Holding onto objects longer than needed.\n",
        "\n",
        "**Ques 24) How do you raise an exception manually in Python?**\n",
        "\n",
        "Ans 24) In Python, you can raise an exception manually using the raise statement.\n",
        "This is useful when you want to trigger an error intentionally, for example, to enforce a\n",
        "rule or validate input.\n",
        "\n",
        "**Ques 25) Why is it important to use multithreading in certain applications?**\n",
        "\n",
        "Ans 25) Using multithreading in certain applications is important because it helps\n",
        "improve the efficiency, responsiveness, and performance of programs, especially\n",
        "when dealing with I/O-bound tasks.\n",
        "\n",
        "\n"
      ],
      "metadata": {
        "id": "psbT1jZTiNM_"
      },
      "id": "psbT1jZTiNM_"
    },
    {
      "cell_type": "markdown",
      "source": [],
      "metadata": {
        "id": "rB1ZEMB_hrFI"
      },
      "id": "rB1ZEMB_hrFI"
    },
    {
      "cell_type": "code",
      "execution_count": null,
      "id": "394c7e8e-725b-46c9-ac58-0621b784b7ab",
      "metadata": {
        "id": "394c7e8e-725b-46c9-ac58-0621b784b7ab"
      },
      "outputs": [],
      "source": [
        ""
      ]
    },
    {
      "cell_type": "markdown",
      "source": [
        "**PRACTICAL QUESTIONS....**"
      ],
      "metadata": {
        "id": "_RC4OJfRUIkx"
      },
      "id": "_RC4OJfRUIkx"
    },
    {
      "cell_type": "markdown",
      "source": [],
      "metadata": {
        "id": "cNgCNb9nUFsw"
      },
      "id": "cNgCNb9nUFsw"
    },
    {
      "cell_type": "code",
      "execution_count": null,
      "id": "1e067876-9e54-4698-9ad8-c4751600c9b2",
      "metadata": {
        "id": "1e067876-9e54-4698-9ad8-c4751600c9b2",
        "outputId": "f6c421b0-5b67-4da0-b55a-3e302787e312",
        "colab": {
          "base_uri": "https://localhost:8080/"
        }
      },
      "outputs": [
        {
          "output_type": "stream",
          "name": "stdout",
          "text": [
            "Hello, World!\n"
          ]
        }
      ],
      "source": [
        "# 1)   How can you open a file for writing in Python and write a string to it?\n",
        "\n",
        "  #1)\n",
        "\n",
        "with open(\"file.txt\", \"w\") as f:\n",
        "  f.write(\"Hello, World!\")\n",
        "with open(\"file.txt\", \"r\") as f:\n",
        "  line=f.read()\n",
        "  print(line)\n",
        "\n"
      ]
    },
    {
      "cell_type": "code",
      "execution_count": null,
      "id": "aeefeac3-38da-490d-a273-75be9bcaf767",
      "metadata": {
        "id": "aeefeac3-38da-490d-a273-75be9bcaf767",
        "outputId": "ab6977a1-1fe0-4d03-c3ee-a4664895b520"
      },
      "outputs": [
        {
          "name": "stdout",
          "output_type": "stream",
          "text": [
            "Hello, this is a test string.\n"
          ]
        }
      ],
      "source": [
        " # 2)  Write a Python program to read the contents of a file and print each line?\n",
        "#2)\n",
        "\n",
        "with open(\"example.txt\", \"r\") as file:\n",
        "    for line in file:\n",
        "        print(line.strip())\n"
      ]
    },
    {
      "cell_type": "code",
      "execution_count": null,
      "id": "d54cb397-35a2-4118-a0bb-ccf0cf06c77d",
      "metadata": {
        "id": "d54cb397-35a2-4118-a0bb-ccf0cf06c77d",
        "outputId": "c04b3c86-a165-4eba-a260-91a7d9f26e1d"
      },
      "outputs": [
        {
          "name": "stdout",
          "output_type": "stream",
          "text": [
            "Hello, this is a test string.\n"
          ]
        }
      ],
      "source": [
        " # 3)  How would you handle a case where the file doesn't exist while trying to open it for reading?\n",
        "#3)\n",
        "filename = \"example.txt\"\n",
        "\n",
        "try:\n",
        "    with open(filename, 'r') as file:\n",
        "        content = file.read()\n",
        "        print(content)\n",
        "except FileNotFoundError:\n",
        "    print(f\"Error: The file '{filename}' does not exist.\")\n"
      ]
    },
    {
      "cell_type": "code",
      "source": [
        "# 4) Write a Python script that reads from one file and writes its content to another file.\n",
        "\n",
        "\n",
        "\n",
        "try:\n",
        "    with open('source.txt', 'r') as source_file:\n",
        "        content = source_file.read()\n",
        "\n",
        "    with open('destination.txt', 'w') as dest_file:\n",
        "        dest_file.write(content)\n",
        "\n",
        "    print(\"File copied successfully.\")\n",
        "\n",
        "except FileNotFoundError:\n",
        "    print(\"Error: The file 'source.txt' was not found.\")"
      ],
      "metadata": {
        "colab": {
          "base_uri": "https://localhost:8080/"
        },
        "id": "91d4KEosP0jC",
        "outputId": "5fbd4c4e-ba08-4584-ca56-89d48319d52f"
      },
      "id": "91d4KEosP0jC",
      "execution_count": null,
      "outputs": [
        {
          "output_type": "stream",
          "name": "stdout",
          "text": [
            "Error: The file 'source.txt' was not found.\n"
          ]
        }
      ]
    },
    {
      "cell_type": "code",
      "execution_count": null,
      "id": "da00e177-1a5c-47a9-87c2-319ae8363469",
      "metadata": {
        "id": "da00e177-1a5c-47a9-87c2-319ae8363469",
        "outputId": "1656bc50-ab8c-4117-914c-e1fea64eb281"
      },
      "outputs": [
        {
          "name": "stdout",
          "output_type": "stream",
          "text": [
            "Error: Cannot divide by zero.\n"
          ]
        }
      ],
      "source": [
        " # 5)  How would you catch and handle division by zero error in Python?\n",
        "\n",
        "#5\n",
        "try:\n",
        "    numerator = 10\n",
        "    denominator = 0\n",
        "    result = numerator / denominator\n",
        "    print(\"Result:\", result)\n",
        "except ZeroDivisionError:\n",
        "    print(\"Error: Cannot divide by zero.\")\n"
      ]
    },
    {
      "cell_type": "code",
      "execution_count": null,
      "id": "a2e63f6a-d334-4bb9-abdd-77979df0481b",
      "metadata": {
        "id": "a2e63f6a-d334-4bb9-abdd-77979df0481b",
        "outputId": "a3082087-11af-4146-a8e7-e67ce2bef7ea"
      },
      "outputs": [
        {
          "name": "stdout",
          "output_type": "stream",
          "text": [
            "An error occurred. Check the log file for details.\n"
          ]
        }
      ],
      "source": [
        "  # 6)  Write a Python program that logs an error message to a log file when a division by zero exception occur?\n",
        "\n",
        "#6\n",
        "import logging\n",
        "\n",
        "try:\n",
        "    numerator = 10\n",
        "    denominator = 0\n",
        "    result = numerator / denominator\n",
        "except ZeroDivisionError as e:\n",
        "    logging.error(\"Attempted to divide by zero: %s\", e)\n",
        "    print(\"An error occurred. Check the log file for details.\")\n"
      ]
    },
    {
      "cell_type": "code",
      "execution_count": null,
      "id": "13b8c480-11c0-4732-a791-7f832ae55f50",
      "metadata": {
        "id": "13b8c480-11c0-4732-a791-7f832ae55f50",
        "outputId": "5f1772b1-6d9b-4c72-e4d8-0d7de2d1ac63"
      },
      "outputs": [
        {
          "name": "stdout",
          "output_type": "stream",
          "text": [
            "Logs have been written to 'log_output.txt'\n"
          ]
        }
      ],
      "source": [
        "   # 7)  How do you log information at different levels (INFO, ERROR, WARNING) in Python using the logging module?\n",
        "\n",
        "#7\n",
        "import logging\n",
        "\n",
        "logging.basicConfig(\n",
        "    level=logging.DEBUG,\n",
        "    format='%(asctime)s - %(levelname)s - %(message)s',\n",
        "    filename='log_output.txt',\n",
        "    filemode='w'\n",
        "\n",
        "logging.debug(\"This is a DEBUG message.\")\n",
        "logging.info(\"This is an INFO message.\")\n",
        "logging.warning(\"This is a WARNING message.\")\n",
        "logging.error(\"This is an ERROR message.\")\n",
        "logging.critical(\"This is a CRITICAL message.\")\n",
        "\n",
        "print(\"Logs have been written to 'log_output.txt'\")\n",
        "\n"
      ]
    },
    {
      "cell_type": "code",
      "execution_count": null,
      "id": "3c5538af-a3a8-49e9-882c-05c18956dd88",
      "metadata": {
        "id": "3c5538af-a3a8-49e9-882c-05c18956dd88",
        "outputId": "ef16b9ae-e47d-448e-c0e0-2a7043725248"
      },
      "outputs": [
        {
          "name": "stdout",
          "output_type": "stream",
          "text": [
            "Hello, world!This is new data being appended.\n",
            "Appended using a+ mode.\n",
            "\n"
          ]
        }
      ],
      "source": [
        "  # 8)  Write a program to handle a file opening error using exception handling?\n",
        "\n",
        "#8\n",
        "try:\n",
        "\n",
        "    file = open(\"myfile.txt\", \"r\")\n",
        "    content = file.read()\n",
        "    print(content)\n",
        "    file.close()\n",
        "except FileNotFoundError:\n",
        "    print(\"Error: The file 'myfile.txt' was not found.\")\n"
      ]
    },
    {
      "cell_type": "code",
      "execution_count": null,
      "id": "4c22b592-9f72-49bf-82bf-3fddd70b0a89",
      "metadata": {
        "id": "4c22b592-9f72-49bf-82bf-3fddd70b0a89",
        "outputId": "89562219-2e36-4016-abb3-5b7711974096"
      },
      "outputs": [
        {
          "name": "stdout",
          "output_type": "stream",
          "text": [
            "['Hello, world!']\n"
          ]
        }
      ],
      "source": [
        "  # 9)  How can you read a file line by line and store its content in a list in Python?\n",
        "\n",
        "#9\n",
        "with open(\"myfile.txt\", \"r\") as file:\n",
        "    lines = file.readlines()\n",
        "\n",
        "print(lines)\n",
        "\n"
      ]
    },
    {
      "cell_type": "code",
      "execution_count": null,
      "id": "001821a3-1c76-49bc-a8dc-15fe32c10ead",
      "metadata": {
        "id": "001821a3-1c76-49bc-a8dc-15fe32c10ead",
        "outputId": "714333e6-4ae0-4350-9f50-f408beb7a5b9"
      },
      "outputs": [
        {
          "name": "stdout",
          "output_type": "stream",
          "text": [
            "Updated File Content:\n",
            " Hello, world!This is new data being appended.\n",
            "Appended using a+ mode.\n",
            "\n"
          ]
        }
      ],
      "source": [
        "   # 10) How can you append data to an existing file in Python?\n",
        "\n",
        "#10\n",
        "with open(\"myfile.txt\", \"a+\") as file:\n",
        "    file.write(\"Appended using a+ mode.\\n\")\n",
        "    file.seek(0)\n",
        "    content = file.read()\n",
        "    print(\"Updated File Content:\\n\", content)\n",
        "\n"
      ]
    },
    {
      "cell_type": "code",
      "execution_count": null,
      "id": "03b01670-6035-41af-baf7-3141eb1cdda6",
      "metadata": {
        "id": "03b01670-6035-41af-baf7-3141eb1cdda6",
        "outputId": "5163bacc-4514-4157-8e85-999a0550519d"
      },
      "outputs": [
        {
          "name": "stdout",
          "output_type": "stream",
          "text": [
            "Key is not found 'fee'\n"
          ]
        }
      ],
      "source": [
        "  # 11) Write a Python program that uses a try-except block to handle an error when attempting to access a\n",
        "#dictionary key that doesn't exist.\n",
        "\n",
        "#11)\n",
        "try:\n",
        "    data = {\"name\": \"Zoya\", \"Course\": \"DS\", \"age\": 21}\n",
        "    data[\"fee\"]\n",
        "except KeyError as e:\n",
        "    print(\"Key is not found\", e)\n",
        "\n"
      ]
    },
    {
      "cell_type": "code",
      "execution_count": null,
      "id": "10448cd2-90fe-4850-aecf-2a44e3e48005",
      "metadata": {
        "id": "10448cd2-90fe-4850-aecf-2a44e3e48005",
        "outputId": "a49e2ec4-b0df-4be5-baed-c147ccd5675b"
      },
      "outputs": [
        {
          "name": "stdout",
          "output_type": "stream",
          "text": [
            "The division is not possible  unsupported operand type(s) for /: 'int' and 'str'\n"
          ]
        }
      ],
      "source": [
        " # 12) Write a program that demonstrate using multiple except block to handle diiferent types of exceptions.\n",
        "\n",
        "#12\n",
        "try:\n",
        "    10/\"a\"\n",
        "except TypeError as e:\n",
        "    print(\"The division is not possible \",e)\n",
        "except Exception as e:\n",
        "    print(\"The error is\", e)\n"
      ]
    },
    {
      "cell_type": "code",
      "execution_count": null,
      "id": "90cb40b3-508d-4406-b820-29fd81169cb5",
      "metadata": {
        "id": "90cb40b3-508d-4406-b820-29fd81169cb5",
        "outputId": "7749ae67-be3d-4732-8725-be7a1166cea5"
      },
      "outputs": [
        {
          "name": "stdout",
          "output_type": "stream",
          "text": [
            "Error: [Errno 2] No such file or directory: 'new.txt'\n"
          ]
        }
      ],
      "source": [
        " # 13) How would you check if a file exists before attempting to read it in Python?\n",
        "\n",
        "#13\n",
        "try:\n",
        "    file = open(\"new.txt\", \"r\")\n",
        "    line = file.read()\n",
        "    file.closed()\n",
        "except FileNotFoundError as e:\n",
        "    print(\"Error:\",e)"
      ]
    },
    {
      "cell_type": "code",
      "execution_count": null,
      "id": "b177d365-e619-41da-a185-46d5aaff0861",
      "metadata": {
        "id": "b177d365-e619-41da-a185-46d5aaff0861",
        "outputId": "89aeff62-9d8f-4f21-9613-ef24980e521b"
      },
      "outputs": [
        {
          "name": "stderr",
          "output_type": "stream",
          "text": [
            "INFO: Division successful: 10 / 2 = 5.0\n",
            "ERROR: Error: Cannot divide by zero.\n"
          ]
        }
      ],
      "source": [
        "   # 14) Write a program that uses the logging module to log both informational and error messages.\n",
        "\n",
        "#14)\n",
        "import logging\n",
        "\n",
        "logging.basicConfig(level=logging.INFO, format='%(levelname)s: %(message)s')\n",
        "\n",
        "def divide(a, b):\n",
        "    try:\n",
        "        result = a / b\n",
        "        logging.info(f\"Division successful: {a} / {b} = {result}\")\n",
        "    except ZeroDivisionError as e:\n",
        "        logging.error(\"Error: Cannot divide by zero.\")\n",
        "\n",
        "divide(10, 2)\n",
        "divide(5, 0)\n"
      ]
    },
    {
      "cell_type": "code",
      "execution_count": null,
      "id": "59966bc4-7c48-4c13-9c53-e05b13dfb997",
      "metadata": {
        "id": "59966bc4-7c48-4c13-9c53-e05b13dfb997",
        "outputId": "b2af2648-945c-4b27-a2f5-672dc98b88c6"
      },
      "outputs": [
        {
          "name": "stdout",
          "output_type": "stream",
          "text": [
            "File not found.\n"
          ]
        }
      ],
      "source": [
        "  # 15) Write a Python program that prints the content of a file and handles the case when the file is empty.\n",
        "\n",
        "#15\n",
        "\n",
        "filename = \"sample.txt\"\n",
        "\n",
        "try:\n",
        "    with open(filename, 'r') as file:\n",
        "        content = file.read()\n",
        "        if content:\n",
        "            print(content)\n",
        "        else:\n",
        "            print(\"The file is empty.\")\n",
        "except FileNotFoundError:\n",
        "    print(\"File not found.\")\n"
      ]
    },
    {
      "cell_type": "code",
      "source": [
        " #17) Write a python program to create a list of numbers to a file, one number per line.\n",
        "\n",
        " #17\n",
        "\n",
        "l = [1, 2, 3, 4, 5]\n",
        "with open(\"list_num.txt\", \"w\")as f:\n",
        "  for i in l:\n",
        "    f.write(f\"{i}\\n\")\n",
        "\n",
        "with open(\"list_num.txt\", \"r\")as f:\n",
        "  print(f.read())\n",
        "\n",
        "\n"
      ],
      "metadata": {
        "colab": {
          "base_uri": "https://localhost:8080/"
        },
        "id": "0oWjIJWb1jK2",
        "outputId": "d6243a9d-7cca-46ad-fd07-dee21fc4db36"
      },
      "id": "0oWjIJWb1jK2",
      "execution_count": null,
      "outputs": [
        {
          "output_type": "stream",
          "name": "stdout",
          "text": [
            "1\n",
            "2\n",
            "3\n",
            "4\n",
            "5\n",
            "\n"
          ]
        }
      ]
    },
    {
      "cell_type": "code",
      "execution_count": null,
      "id": "b1fdf9af-6ff8-42ed-a6f3-d9ed98e231e7",
      "metadata": {
        "colab": {
          "base_uri": "https://localhost:8080/"
        },
        "id": "b1fdf9af-6ff8-42ed-a6f3-d9ed98e231e7",
        "outputId": "22c1444a-4a9e-4470-8573-cb1d3c1be846"
      },
      "outputs": [
        {
          "output_type": "stream",
          "name": "stderr",
          "text": [
            "INFO:root:Logging system started.\n",
            "WARNING:root:This is a warning.\n",
            "ERROR:root:This is an error message.\n"
          ]
        }
      ],
      "source": [
        "   # 18)  How would you implement a basic logging setup that logs to a file with rotation after 1MB?\n",
        "\n",
        "# 18)\n",
        "import logging\n",
        "from logging.handlers import RotatingFileHandler\n",
        "\n",
        "log_handler = RotatingFileHandler(\n",
        "    'my_log.log', maxBytes=1_000_000, backupCount=3\n",
        ")\n",
        "\n",
        "formatter = logging.Formatter('%(asctime)s - %(levelname)s - %(message)s')\n",
        "log_handler.setFormatter(formatter)\n",
        "\n",
        "logger = logging.getLogger()\n",
        "logger.setLevel(logging.INFO)\n",
        "logger.addHandler(log_handler)\n",
        "\n",
        "logger.info(\"Logging system started.\")\n",
        "logger.warning(\"This is a warning.\")\n",
        "logger.error(\"This is an error message.\")\n",
        "\n",
        "\n",
        "\n",
        "\n"
      ]
    },
    {
      "cell_type": "code",
      "execution_count": null,
      "id": "23f18459-b9c6-44a7-9334-9971ec04972b",
      "metadata": {
        "id": "23f18459-b9c6-44a7-9334-9971ec04972b",
        "outputId": "2e9828e6-455e-4e01-e264-904f7af49d1a"
      },
      "outputs": [
        {
          "name": "stdout",
          "output_type": "stream",
          "text": [
            "IndexError: List index out of range.\n"
          ]
        }
      ],
      "source": [
        " # 19) Write a program that handles both IndexError and KeyError using a try-except block.\n",
        "\n",
        "# 19)\n",
        "try:\n",
        "    my_list = [1, 2, 3]\n",
        "    print(my_list[5])\n",
        "    my_dict = {\"a\": 1}\n",
        "    print(my_dict[\"b\"])\n",
        "\n",
        "except IndexError:\n",
        "    print(\"IndexError: List index out of range.\")\n",
        "\n",
        "except KeyError:\n",
        "    print(\"KeyError: Key not found in dictionary.\")\n"
      ]
    },
    {
      "cell_type": "code",
      "execution_count": null,
      "id": "0973377b-2926-4231-b8ac-8d651a4dcba7",
      "metadata": {
        "id": "0973377b-2926-4231-b8ac-8d651a4dcba7",
        "outputId": "95ce2804-3eff-427a-f087-44daa872bcfb"
      },
      "outputs": [
        {
          "name": "stdout",
          "output_type": "stream",
          "text": [
            "Hello, this is a line of text.\n"
          ]
        }
      ],
      "source": [
        "  # 20)  How would you open a file and read its contents using a context manager in Python?\n",
        "\n",
        "#20)\n",
        "\n",
        "with open(\"example.txt\", \"r\") as file:\n",
        "    content = file.read()\n",
        "    print(content)\n"
      ]
    },
    {
      "cell_type": "code",
      "source": [
        " # 21) Write a Python program that reads a file and prints the number of occurrences of a specific word.\n",
        "\n",
        "\n",
        "def count_word_occurrences(filename, target_word):\n",
        "    try:\n",
        "        with open(filename, 'r') as file:\n",
        "            content = file.read().lower()\n",
        "            words = content.split()\n",
        "            count = words.count(target_word.lower())\n",
        "            print(f\"The word '{target_word}' appears {count} times in the file.\")\n",
        "    except FileNotFoundError:\n",
        "        print(\"The file was not found.\")\n",
        "    except Exception as e:\n",
        "        print(f\"An error occurred: {e}\")\n",
        "\n",
        "\n",
        "file_name = \"sample.txt\"\n",
        "word_to_find = \"python\"\n",
        "count_word_occurrences(file_name, word_to_find)\n"
      ],
      "metadata": {
        "colab": {
          "base_uri": "https://localhost:8080/"
        },
        "id": "dBTixRZDPVGA",
        "outputId": "d410f8ce-40a9-465f-94d3-7439012fb5f1"
      },
      "id": "dBTixRZDPVGA",
      "execution_count": null,
      "outputs": [
        {
          "output_type": "stream",
          "name": "stdout",
          "text": [
            "The file was not found.\n"
          ]
        }
      ]
    },
    {
      "cell_type": "code",
      "execution_count": null,
      "id": "a90bc152-5bdb-4e5d-a376-e910b43778d8",
      "metadata": {
        "colab": {
          "base_uri": "https://localhost:8080/"
        },
        "id": "a90bc152-5bdb-4e5d-a376-e910b43778d8",
        "outputId": "128ff7ec-3bd0-4ab2-e4a1-94cdb6048fd2"
      },
      "outputs": [
        {
          "output_type": "stream",
          "name": "stdout",
          "text": [
            "File is empty or does not exist.\n"
          ]
        }
      ],
      "source": [
        "# 22) How can you check if a file is empty before attempting to read its contents.\n",
        "\n",
        "import os\n",
        "\n",
        "filename = 'sample.txt'\n",
        "\n",
        "# Check if file exists and is not empty\n",
        "if os.path.isfile(filename) and os.path.getsize(filename) > 0:\n",
        "    with open(filename, 'r') as file:\n",
        "        contents = file.read()\n",
        "        print(\"File contents:\\n\", contents)\n",
        "else:\n",
        "    print(\"File is empty or does not exist.\")\n",
        "\n",
        "\n"
      ]
    },
    {
      "cell_type": "code",
      "execution_count": null,
      "id": "ad528632-bd58-4bec-bb34-dc7ab7d63859",
      "metadata": {
        "id": "ad528632-bd58-4bec-bb34-dc7ab7d63859",
        "outputId": "d740301b-0312-4dcb-e814-a9256097df6c"
      },
      "outputs": [
        {
          "name": "stderr",
          "output_type": "stream",
          "text": [
            "ERROR: An error occurred: [Errno 2] No such file or directory: 'data.txt'\n"
          ]
        },
        {
          "name": "stdout",
          "output_type": "stream",
          "text": [
            "An error occurred. Check error.log for details.\n"
          ]
        }
      ],
      "source": [
        "  #23)  Write a Python program that writes to a log file when an error occurs during file handling.\n",
        "\n",
        "# 23)\n",
        "import logging\n",
        "\n",
        "logging.basicConfig(filename=\"error.log\", level=logging.ERROR, format='%(asctime)s - %(levelname)s - %(message)s')\n",
        "\n",
        "try:\n",
        "    with open(\"data.txt\", \"r\") as file:\n",
        "        print(file.read())\n",
        "except Exception as e:\n",
        "    logging.error(f\"An error occurred: {e}\")\n",
        "    print(\"An error occurred. Check error.log for details.\")\n"
      ]
    },
    {
      "cell_type": "code",
      "execution_count": null,
      "id": "c71f35be-afa5-4c1e-a8cb-40f8be14909b",
      "metadata": {
        "id": "c71f35be-afa5-4c1e-a8cb-40f8be14909b"
      },
      "outputs": [],
      "source": []
    }
  ],
  "metadata": {
    "kernelspec": {
      "display_name": "Python 3 (ipykernel)",
      "language": "python",
      "name": "python3"
    },
    "language_info": {
      "codemirror_mode": {
        "name": "ipython",
        "version": 3
      },
      "file_extension": ".py",
      "mimetype": "text/x-python",
      "name": "python",
      "nbconvert_exporter": "python",
      "pygments_lexer": "ipython3",
      "version": "3.12.7"
    },
    "colab": {
      "provenance": []
    }
  },
  "nbformat": 4,
  "nbformat_minor": 5
}